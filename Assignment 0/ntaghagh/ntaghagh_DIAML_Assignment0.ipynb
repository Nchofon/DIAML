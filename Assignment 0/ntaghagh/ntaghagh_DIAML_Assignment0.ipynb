{
 "cells": [
  {
   "cell_type": "code",
   "execution_count": 1,
   "id": "2f425d43-5990-4bb6-ade8-a814719a7979",
   "metadata": {},
   "outputs": [
    {
     "name": "stdout",
     "output_type": "stream",
     "text": [
      "Hello Data Inference and Applied Machine Learning\n"
     ]
    }
   ],
   "source": [
    "# Printing out \"Hello Data Inference and Applied Machine Learning\"\n",
    "\n",
    "print(\"Hello Data Inference and Applied Machine Learning\") # Python syntax to print a string"
   ]
  },
  {
   "cell_type": "code",
   "execution_count": null,
   "id": "652beebb-bae3-429f-b513-5704ecdae8c1",
   "metadata": {},
   "outputs": [],
   "source": [
    "# Defining the values of pi, e, and phi\n",
    "\n",
    "\"\"\" \n",
    "A) Pi (π): Pi is an irrational mathematical constant that represents the ratio of a circle's circumference to its diameter. Pi is applied in life computations involving circular and oscillatory pattern. A couple include:\n",
    "-\tPlanetary and orbital motion calculations: Pi is a very vital constant used in calculating planatary motion. It can be seen in claculations when launching objects to space.\n",
    "-\tEnergy waveform calculations: Most waveforms are sinosoidal and pi comes in handy in waveform calculations.  \n",
    "\n",
    "B) Euler's constant (e): e is an irrational mathematical constant of approximate value 2.71828. Also, its derivative when raised to any power remains itself to that power. It is crucial in areas like:\n",
    "-   Growth modelling: When modeling/calculating growth, interest, amongst others, e becomes a vital constant. \n",
    "-   Statistical analysis: When analysing continuous random distribution Euler's constant is employed\n",
    "\n",
    "C) The Golden Ratio (phi): The goldern ratio of two numbers is the value if thier ratio is equal to the ratio of their sum to the larger number. The goldern ratio concept is applied in the domain of:\n",
    "-   Designs of all form: Most apealing designs make use of the goldern ration concerp to draw the admiration of observers. \n",
    "-   Arrangements.\n",
    "\n",
    "\"\"\""
   ]
  },
  {
   "cell_type": "code",
   "execution_count": 10,
   "id": "ddfae74a-4a41-47d4-94bc-291981d271b4",
   "metadata": {},
   "outputs": [
    {
     "name": "stdout",
     "output_type": "stream",
     "text": [
      "7.4779\n"
     ]
    }
   ],
   "source": [
    "# Printing out the sum of the three constants. Let these constants be the special maths constants pi, e, and phi.\n",
    "\n",
    "pi = 3.14159    #innitializing pi to 5dp\n",
    "e = 2.71828     #innitializing e to 5dp\n",
    "phi = 1.61803   #innitializing phi to 5dp\n",
    "\n",
    "sum = (pi + e + phi) # summing up the constant \n",
    "\n",
    "print(sum) # printing the sum of these constants "
   ]
  }
 ],
 "metadata": {
  "kernelspec": {
   "display_name": "Python 3 (ipykernel)",
   "language": "python",
   "name": "python3"
  },
  "language_info": {
   "codemirror_mode": {
    "name": "ipython",
    "version": 3
   },
   "file_extension": ".py",
   "mimetype": "text/x-python",
   "name": "python",
   "nbconvert_exporter": "python",
   "pygments_lexer": "ipython3",
   "version": "3.12.4"
  }
 },
 "nbformat": 4,
 "nbformat_minor": 5
}
